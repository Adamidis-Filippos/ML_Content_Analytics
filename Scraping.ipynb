{
  "nbformat": 4,
  "nbformat_minor": 0,
  "metadata": {
    "colab": {
      "provenance": []
    },
    "kernelspec": {
      "name": "python3",
      "display_name": "Python 3"
    },
    "language_info": {
      "name": "python"
    }
  },
  "cells": [
    {
      "cell_type": "code",
      "execution_count": 21,
      "metadata": {
        "id": "WXiPjpTfgvfi"
      },
      "outputs": [],
      "source": [
        "import requests\n",
        "from bs4 import BeautifulSoup\n",
        "import pandas as pd"
      ]
    },
    {
      "cell_type": "code",
      "source": [
        "# List of IMDb IDs for the selected movies (including additional 6 movies)\n",
        "movie_ids = [\n",
        "    'tt0111161',  # The Shawshank Redemption\n",
        "    'tt0068646',  # The Godfather\n",
        "    'tt0468569',  # The Dark Knight\n",
        "    'tt0110912',  # Pulp Fiction\n",
        "    'tt0167260',  # The Lord of the Rings: The Return of the King\n",
        "    'tt0108052',  # Schindler's List\n",
        "    'tt0137523',  # Fight Club\n",
        "    'tt0109830',  # Forrest Gump\n",
        "    'tt1375666',  # Inception\n",
        "    'tt0133093',  # The Matrix\n",
        "    'tt0185183',  # Battlefield Earth\n",
        "    'tt0804492',  # The Hottie & the Nottie\n",
        "    'tt2724064',  # Sharknado\n",
        "    'tt0317676',  # House of the Dead\n",
        "    'tt0368226',  # The Room\n",
        "    'tt2103085'   # Run for Your Wife\n",
        "]\n",
        "\n",
        "# Initialize an empty list to store the review data\n",
        "all_review_data = []"
      ],
      "metadata": {
        "id": "69xceyBeiyxu"
      },
      "execution_count": 22,
      "outputs": []
    },
    {
      "cell_type": "code",
      "source": [
        "# Base URL for IMDb reviews\n",
        "base_url = 'https://www.imdb.com/title/{}/reviews?ref_=tt_urv'\n",
        "\n",
        "# User-Agent header to mimic a real browser\n",
        "headers = {\n",
        "    'User-Agent': 'Mozilla/5.0 (Windows NT 10.0; Win64; x64) AppleWebKit/537.36 (KHTML, like Gecko) Chrome/58.0.3029.110 Safari/537.3'\n",
        "}\n",
        "\n",
        "# Loop through each movie ID and scrape reviews\n",
        "for movie_id in movie_ids:\n",
        "    url = base_url.format(movie_id)\n",
        "    response = requests.get(url, headers=headers)\n",
        "\n",
        "    if response.status_code == 200:\n",
        "        html_content = response.text\n",
        "        soup = BeautifulSoup(html_content, 'html.parser')\n",
        "\n",
        "        # Extract the movie title using a more reliable selector\n",
        "        movie_title = soup.find('div', class_='parent').find('a').get_text(strip=True)\n",
        "\n",
        "        # Find and extract reviews\n",
        "        reviews = soup.find_all('div', class_='text show-more__control')\n",
        "\n",
        "        if reviews:\n",
        "            for review in reviews:\n",
        "                review_text = review.get_text(strip=True)\n",
        "                # Append a dictionary with the movie title and review to the list\n",
        "                all_review_data.append({\"Movie Title\": movie_title, \"Review\": review_text})\n",
        "        else:\n",
        "            print(f\"No reviews found for {movie_title}.\")\n",
        "    else:\n",
        "        print(f\"Failed to retrieve reviews for movie ID: {movie_id}. Status code: {response.status_code}\")\n",
        "\n",
        "# Convert the list of dictionaries to a DataFrame\n",
        "df = pd.DataFrame(all_review_data)\n",
        "\n",
        "# Save the DataFrame to a CSV file\n",
        "df.to_csv('imdb_movie_reviews.csv', index=False)\n",
        "\n",
        "print(f\"Reviews for the selected movies have been saved to 'imdb_movie_reviews.csv'.\")"
      ],
      "metadata": {
        "colab": {
          "base_uri": "https://localhost:8080/"
        },
        "id": "MMyMszEhiz8R",
        "outputId": "1d863e87-a277-4dde-b860-c2ba23cc04f9"
      },
      "execution_count": 23,
      "outputs": [
        {
          "output_type": "stream",
          "name": "stdout",
          "text": [
            "Reviews for the selected movies have been saved to 'imdb_movie_reviews.csv'.\n"
          ]
        }
      ]
    }
  ]
}